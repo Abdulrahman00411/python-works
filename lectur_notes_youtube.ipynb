{
 "cells": [
  {
   "cell_type": "markdown",
   "metadata": {},
   "source": [
    "# String Function"
   ]
  },
  {
   "cell_type": "markdown",
   "metadata": {},
   "source": [
    "1.length "
   ]
  },
  {
   "cell_type": "code",
   "execution_count": 1,
   "metadata": {},
   "outputs": [
    {
     "name": "stdout",
     "output_type": "stream",
     "text": [
      "The length of name1 is 4\n",
      "The length of name2 is 8\n"
     ]
    }
   ],
   "source": [
    "name1=\"Saad\"\n",
    "name2=\"Abdullah\"\n",
    "length1=len(name1)\n",
    "length2=len(name2)\n",
    "print(\"The length of name1 is\",length1)\n",
    "print(\"The length of name2 is\",length2)"
   ]
  },
  {
   "cell_type": "markdown",
   "metadata": {},
   "source": [
    "2. Indexing 0r Slicing"
   ]
  },
  {
   "cell_type": "code",
   "execution_count": 2,
   "metadata": {},
   "outputs": [
    {
     "name": "stdout",
     "output_type": "stream",
     "text": [
      "Hello coder\n",
      "Hello coder\n",
      "Hello coder\n"
     ]
    }
   ],
   "source": [
    "str=\"Hello coder\"\n",
    "#Method 1\n",
    "print(str[0:12])\n",
    "#Method 2\n",
    "print(str[0:len(str)])\n",
    "#Method 3\n",
    "print(str[-11:])  #negetive indexing"
   ]
  },
  {
   "cell_type": "markdown",
   "metadata": {},
   "source": [
    "3.find the index of  string"
   ]
  },
  {
   "cell_type": "code",
   "execution_count": 3,
   "metadata": {},
   "outputs": [
    {
     "name": "stdout",
     "output_type": "stream",
     "text": [
      "Find : 6\n"
     ]
    }
   ],
   "source": [
    "name=\"Abdul Rahman\"\n",
    "print(\"Find :\",name.find(\"Rahman\"))"
   ]
  },
  {
   "cell_type": "markdown",
   "metadata": {},
   "source": [
    "4.Absolute function (Modulus)"
   ]
  },
  {
   "cell_type": "code",
   "execution_count": 8,
   "metadata": {},
   "outputs": [
    {
     "name": "stdout",
     "output_type": "stream",
     "text": [
      "Modulus  of  8 / 2  is : 4.0\n"
     ]
    }
   ],
   "source": [
    "num1=int(input (\"Enter number 1 :\"))\n",
    "num2=int(input (\"Enter number 2 :\"))\n",
    "result=abs(num1/num2)   #abs keyword\n",
    "print(\"Modulus  of \",num1 ,\"/\",num2,\" is :\",result)"
   ]
  },
  {
   "cell_type": "markdown",
   "metadata": {},
   "source": [
    "5.power function"
   ]
  },
  {
   "cell_type": "code",
   "execution_count": 17,
   "metadata": {},
   "outputs": [
    {
     "name": "stdout",
     "output_type": "stream",
     "text": [
      "Power is  of  2 and is : 4\n"
     ]
    }
   ],
   "source": [
    "num1=int(input (\"Enter number 1 :\"))\n",
    "num2=int(input (\"Enter number 2 :\"))\n",
    "result= pow (num1,num2)\n",
    "print(\"Power is  of \",num1,\"and\",\"is :\",result)"
   ]
  },
  {
   "cell_type": "markdown",
   "metadata": {},
   "source": [
    "6.min & max"
   ]
  },
  {
   "cell_type": "code",
   "execution_count": 22,
   "metadata": {},
   "outputs": [
    {
     "name": "stdout",
     "output_type": "stream",
     "text": [
      "Maximun number in list is : Bilal \n",
      " Minimun number in list is : Abdul Rahman Awan\n"
     ]
    }
   ],
   "source": [
    "list=[\"Abdul Rahman Awan\",\"Bilal\"]\n",
    "print(\"Maximun number in list is :\",max(list),\"\\n\",\"Minimun number in list is :\",min(list))\n"
   ]
  },
  {
   "cell_type": "markdown",
   "metadata": {},
   "source": [
    "7.round "
   ]
  },
  {
   "cell_type": "code",
   "execution_count": 9,
   "metadata": {},
   "outputs": [
    {
     "name": "stdout",
     "output_type": "stream",
     "text": [
      "Without round function : 3.142857142857143\n",
      "Result after round : 3.143\n"
     ]
    }
   ],
   "source": [
    "x=22/7\n",
    "print(\"Without round function :\",x)\n",
    "print(\"Result after round :\",round(x,3)) \n"
   ]
  },
  {
   "cell_type": "markdown",
   "metadata": {},
   "source": [
    "8.divmod"
   ]
  },
  {
   "cell_type": "code",
   "execution_count": 11,
   "metadata": {},
   "outputs": [
    {
     "data": {
      "text/plain": [
       "(2, 1)"
      ]
     },
     "execution_count": 11,
     "metadata": {},
     "output_type": "execute_result"
    }
   ],
   "source": [
    "x=divmod(5,2)  # div ,modulus\n",
    "x"
   ]
  },
  {
   "cell_type": "markdown",
   "metadata": {},
   "source": [
    "9.binary/octul/hexadecimal"
   ]
  },
  {
   "cell_type": "code",
   "execution_count": 17,
   "metadata": {},
   "outputs": [
    {
     "name": "stdout",
     "output_type": "stream",
     "text": [
      "0o26\n",
      "0b1100\n",
      "0xc\n"
     ]
    }
   ],
   "source": [
    "print(oct(22))\n",
    "print(bin(12))\n",
    "print(hex(13))"
   ]
  },
  {
   "cell_type": "markdown",
   "metadata": {},
   "source": [
    "10.id (show address in memory)"
   ]
  },
  {
   "cell_type": "code",
   "execution_count": 21,
   "metadata": {},
   "outputs": [
    {
     "name": "stdout",
     "output_type": "stream",
     "text": [
      "a : 4\n",
      "Address of a in memory: 140727213949960\n"
     ]
    }
   ],
   "source": [
    "a=4\n",
    "print(\"a :\",a)\n",
    "print(\"Address of a in memory:\",id(a))"
   ]
  },
  {
   "cell_type": "markdown",
   "metadata": {},
   "source": [
    "11.sum"
   ]
  },
  {
   "cell_type": "code",
   "execution_count": 26,
   "metadata": {},
   "outputs": [
    {
     "name": "stdout",
     "output_type": "stream",
     "text": [
      "Sum is: 3\n"
     ]
    }
   ],
   "source": [
    "print(\"Sum is:\",sum([1,2]))"
   ]
  },
  {
   "cell_type": "markdown",
   "metadata": {},
   "source": [
    "12. help"
   ]
  },
  {
   "cell_type": "code",
   "execution_count": 27,
   "metadata": {},
   "outputs": [
    {
     "name": "stdout",
     "output_type": "stream",
     "text": [
      "Help on built-in function sum in module builtins:\n",
      "\n",
      "sum(iterable, /, start=0)\n",
      "    Return the sum of a 'start' value (default: 0) plus an iterable of numbers\n",
      "\n",
      "    When the iterable is empty, return the start value.\n",
      "    This function is intended specifically for use with numeric values and may\n",
      "    reject non-numeric types.\n",
      "\n"
     ]
    }
   ],
   "source": [
    "help('sum')"
   ]
  },
  {
   "cell_type": "markdown",
   "metadata": {},
   "source": [
    "# Conditional Statemant "
   ]
  },
  {
   "cell_type": "markdown",
   "metadata": {},
   "source": [
    "1. if else statement Or Multiple if else"
   ]
  },
  {
   "cell_type": "code",
   "execution_count": 8,
   "metadata": {},
   "outputs": [
    {
     "name": "stdout",
     "output_type": "stream",
     "text": [
      "You entered a greater number : 50\n"
     ]
    }
   ],
   "source": [
    "number = int(input(\"Enter the guess number :\"))\n",
    "if number == 20:\n",
    "    print(\"You guessed the number:\", number)\n",
    "elif number > 20:\n",
    "    print(\"You entered a greater number :\",number)\n",
    "elif number < 20:\n",
    "    print(\"You entered a less number :\",number)\n",
    "else:\n",
    "    print(\"Invalid input...\")"
   ]
  },
  {
   "cell_type": "markdown",
   "metadata": {},
   "source": [
    "Task :"
   ]
  },
  {
   "cell_type": "code",
   "execution_count": 19,
   "metadata": {},
   "outputs": [
    {
     "name": "stdout",
     "output_type": "stream",
     "text": [
      "Your grade is : B\n"
     ]
    }
   ],
   "source": [
    "marks = int(input(\"Enter your marks :\"))\n",
    "if marks > 90:\n",
    "    print(\"Your grade is : A\")\n",
    "elif marks >= 80 and marks < 90:\n",
    "    print(\"Your grade is : B\")\n",
    "elif marks >= 70 and marks<80:\n",
    "    print(\"Your grade is : C\")\n",
    "elif marks <= 60 and marks<70:\n",
    "    print(\"Your grade is : D\")\n",
    "else:\n",
    "    print(\"Invalid input...\")\n"
   ]
  },
  {
   "cell_type": "markdown",
   "metadata": {},
   "source": [
    "Nesting if statements"
   ]
  },
  {
   "cell_type": "code",
   "execution_count": 22,
   "metadata": {},
   "outputs": [
    {
     "name": "stdout",
     "output_type": "stream",
     "text": [
      "You cannot derived the car: 17\n"
     ]
    }
   ],
   "source": [
    "age=int(input(\"Enter your age\"))\n",
    "if(age>=18):\n",
    "      if(age>=80):\n",
    "         print(\"You cannot derived the car:\",age)\n",
    "      else:\n",
    "        print(\"You derived the car:\",age)    \n",
    "else:\n",
    "    print(\"You cannot derived the car:\",age)          "
   ]
  },
  {
   "cell_type": "markdown",
   "metadata": {},
   "source": [
    "Task : check the number even or odd"
   ]
  },
  {
   "cell_type": "code",
   "execution_count": 29,
   "metadata": {},
   "outputs": [
    {
     "name": "stdout",
     "output_type": "stream",
     "text": [
      "You entered an odd number: 7\n"
     ]
    }
   ],
   "source": [
    "number=int(input(\"Enter the number:\"))\n",
    "if(number%2==0):\n",
    "    print(\"You entered an even number:\",number)\n",
    "else:    \n",
    "    print(\"You entered an odd number:\",number)"
   ]
  },
  {
   "cell_type": "markdown",
   "metadata": {},
   "source": [
    "Task:check greater number in three number's"
   ]
  },
  {
   "cell_type": "code",
   "execution_count": 6,
   "metadata": {},
   "outputs": [
    {
     "name": "stdout",
     "output_type": "stream",
     "text": [
      "Num1 is greater : 520\n"
     ]
    }
   ],
   "source": [
    "num1=520 #int(input(\"Enter number 1:\"))\n",
    "num2=310 #int(input(\"Enter number 1:\"))\n",
    "num3=490 #int(input(\"Enter number 1:\"))\n",
    "\n",
    "if(num1>num2 and num1>num3):\n",
    "    print(\"Num1 is greater :\",num1)\n",
    "elif(num2>num1 and num2>num3):\n",
    "    print(\"Num2 is greater :\",num2)\n",
    "else:\n",
    "    print(\"Num3 is greater :\",num3)        \n"
   ]
  },
  {
   "cell_type": "markdown",
   "metadata": {},
   "source": [
    "check the multipler of 7 "
   ]
  },
  {
   "cell_type": "code",
   "execution_count": 2,
   "metadata": {},
   "outputs": [
    {
     "name": "stdout",
     "output_type": "stream",
     "text": [
      "Current number is multipler of 7 : 14\n"
     ]
    }
   ],
   "source": [
    "number=int(input(\"Enter number :\"))\n",
    "if(number%7==0):\n",
    "    print(\"Current number is multipler of 7 :\",number)\n",
    "else:    \n",
    "    print(\"Current number is  not multipler of 7 :\",number)"
   ]
  },
  {
   "cell_type": "markdown",
   "metadata": {},
   "source": [
    "List (mutable) :"
   ]
  },
  {
   "cell_type": "markdown",
   "metadata": {},
   "source": [
    " Slicing in list"
   ]
  },
  {
   "cell_type": "code",
   "execution_count": 1,
   "metadata": {},
   "outputs": [
    {
     "name": "stdout",
     "output_type": "stream",
     "text": [
      "List is : ['Abdul Rahman', 39, 300, 'Kotli']\n",
      "After updation List is : ['Ali', 39, 300, 'Kotli']\n",
      "Slicing of list is : ['Ali', 39, 300, 'Kotli']\n",
      "Slicing of list is : ['Ali', 39, 300]\n"
     ]
    }
   ],
   "source": [
    "student=[\"Abdul Rahman\",39,300,\"Kotli\"]\n",
    "print(\"List is :\",student)\n",
    "student[0]=\"Ali\"\n",
    "print(\"After updation List is :\",student)\n",
    "#Method :1\n",
    "print(\"Slicing of list is :\",student[0:4])\n",
    "#Method :2\n",
    "print(\"Slicing of list is :\",student[-4:-1])"
   ]
  },
  {
   "cell_type": "markdown",
   "metadata": {},
   "source": [
    "Operation on list"
   ]
  },
  {
   "cell_type": "markdown",
   "metadata": {},
   "source": [
    "Append & sort (Accending order)"
   ]
  },
  {
   "cell_type": "code",
   "execution_count": 3,
   "metadata": {},
   "outputs": [
    {
     "name": "stdout",
     "output_type": "stream",
     "text": [
      "None\n",
      "After appending list : [3, 2, 1, 4]\n",
      "None\n",
      "After sorting list : [1, 2, 3, 4]\n"
     ]
    }
   ],
   "source": [
    "list=[3, 2, 1]\n",
    "print(list.append(4))  #append function \n",
    "print(\"After appending list :\",list)\n",
    "print(list.sort())    #sorting funtion\n",
    "print(\"After sorting list :\",list)\n"
   ]
  },
  {
   "cell_type": "markdown",
   "metadata": {},
   "source": [
    "Decending order & reverse "
   ]
  },
  {
   "cell_type": "code",
   "execution_count": 18,
   "metadata": {},
   "outputs": [
    {
     "name": "stdout",
     "output_type": "stream",
     "text": [
      "None\n",
      "After updation : ['d', 'c', 'b', 'a']\n",
      "None\n",
      "After updation : ['a', 'b', 'c', 'd']\n"
     ]
    }
   ],
   "source": [
    "list=[\"b\",\"c\",\"a\",\"d\"]\n",
    "print(list.sort(reverse=True))  #Decending order\n",
    "print(\"After updation :\",list)\n",
    "print(list.reverse())           #reverse function\n",
    "print(\"After updation :\",list)"
   ]
  },
  {
   "cell_type": "markdown",
   "metadata": {},
   "source": [
    "Insert "
   ]
  },
  {
   "cell_type": "code",
   "execution_count": 2,
   "metadata": {},
   "outputs": [
    {
     "name": "stdout",
     "output_type": "stream",
     "text": [
      "After updation : ['Abdul Rhman', 'khiyam', 'muzamal', 'shami', 'usman']\n"
     ]
    }
   ],
   "source": [
    "friends=[\"khiyam\",\"muzamal\",\"shami\",\"usman\"]\n",
    "friends.insert(0,\"Abdul Rhman\")  #inset function\n",
    "print(\"After updation :\",friends)\n",
    " "
   ]
  },
  {
   "cell_type": "markdown",
   "metadata": {},
   "source": [
    "Remove (remove first occurence) & Pop"
   ]
  },
  {
   "cell_type": "code",
   "execution_count": 29,
   "metadata": {},
   "outputs": [
    {
     "name": "stdout",
     "output_type": "stream",
     "text": [
      "None\n",
      "After updation: [2, 5, 3]\n",
      "5\n",
      "After updation: [2, 3]\n"
     ]
    }
   ],
   "source": [
    "list=[2,3,5,3]\n",
    "print(list.remove(3))  #remove function\n",
    "print(\"After updation:\",list)\n",
    "print(list.pop(1))\n",
    "print(\"After updation:\",list)"
   ]
  },
  {
   "cell_type": "markdown",
   "metadata": {},
   "source": [
    "Tuples (immutable):"
   ]
  },
  {
   "cell_type": "code",
   "execution_count": 3,
   "metadata": {},
   "outputs": [
    {
     "name": "stdout",
     "output_type": "stream",
     "text": [
      "Names : ('Ali', 'Saad', 'Abdullah') \n",
      " Type : <class 'type'>\n",
      " AS a integer : 1 \n",
      " Type : <class 'int'>\n"
     ]
    }
   ],
   "source": [
    "tuples=(\"Ali\",\"Saad\",\"Abdullah\")\n",
    "print(\"Names :\",tuples ,\"\\n\",\"Type :\",type(tuple))\n",
    "#tuple(1,)  #single value tuple\n",
    "#print(\"Single value tuple:\",tuple)\n",
    "tu=(1) #act as a integer\n",
    "print(\" AS a integer :\",tu ,\"\\n\",\"Type :\",type(tu))\n",
    "\n",
    "\n"
   ]
  },
  {
   "cell_type": "markdown",
   "metadata": {},
   "source": [
    "Slicing & count in tuple "
   ]
  },
  {
   "cell_type": "code",
   "execution_count": 7,
   "metadata": {},
   "outputs": [
    {
     "name": "stdout",
     "output_type": "stream",
     "text": [
      "Values: (4, 3, 2, 1, 1, 2, 3, 4) \n",
      " <class 'tuple'>\n",
      "Slicing : (4, 3, 2, 1, 1, 2, 3, 4)\n",
      "Indexing: 3\n",
      "counting: 2\n"
     ]
    }
   ],
   "source": [
    "tuple =(4,3,2,1,1,2,3,4,)\n",
    "print(\"Values:\",tuple,\"\\n\",type(tuple))\n",
    "print(\"Slicing :\",tuple[0:8])\n",
    "print(\"Indexing:\",tuple.index(1))  #indexing function\n",
    "print(\"counting:\",tuple.count(2))  #counting function"
   ]
  },
  {
   "cell_type": "markdown",
   "metadata": {},
   "source": [
    "Tasks:1 Make three input and creat a list"
   ]
  },
  {
   "cell_type": "code",
   "execution_count": 8,
   "metadata": {},
   "outputs": [
    {
     "name": "stdout",
     "output_type": "stream",
     "text": [
      "Our movies list : ['m1', 'm2', 'm3']\n"
     ]
    }
   ],
   "source": [
    "movies=[]\n",
    "movie_1=input(\"Enter name of first  movie :\")\n",
    "movie_2=input(\"Enter name of second movie :\")\n",
    "movie_3=input(\"Enter name of third  movie :\")\n",
    "\n",
    "movies.append(movie_1)\n",
    "movies.append(movie_2) \n",
    "movies.append(movie_3)\n",
    "\n",
    "print(\"Our movies list :\",movies)\n"
   ]
  },
  {
   "cell_type": "markdown",
   "metadata": {},
   "source": [
    "Task :2 check plaindrom list"
   ]
  },
  {
   "cell_type": "code",
   "execution_count": 15,
   "metadata": {},
   "outputs": [
    {
     "name": "stdout",
     "output_type": "stream",
     "text": [
      "Not plaindromic list\n"
     ]
    }
   ],
   "source": [
    "#for list 2\n",
    "list_1=[1,2,1]\n",
    "list_2=[1,2,3]\n",
    "\n",
    "copy_list_2=list_2.copy()\n",
    "copy_list_2.reverse()\n",
    "\n",
    "if(list_2==copy_list_2):\n",
    "    print(\"Plaidromic list :\")\n",
    "else:\n",
    "    print(\"Not plaindromic list\")    \n"
   ]
  },
  {
   "cell_type": "markdown",
   "metadata": {},
   "source": [
    "Task:3 Count Function "
   ]
  },
  {
   "cell_type": "code",
   "execution_count": 10,
   "metadata": {},
   "outputs": [
    {
     "name": "stdout",
     "output_type": "stream",
     "text": [
      "Count: 3\n",
      "* * * * * * * * * * * * \n",
      "None\n",
      "List : ['A', 'A', 'A', 'B', 'B', 'C', 'D']\n"
     ]
    }
   ],
   "source": [
    "tuple=(\"C\",\"D\",\"A\",\"A\",\"B\",\"B\",\"A\")\n",
    "print(\"Count:\",tuple.count(\"A\"))\n",
    "print(\"* * * * * * * * * * * * \")\n",
    "list=[\"C\",\"D\",\"A\",\"A\",\"B\",\"B\",\"A\"]\n",
    "print(list.sort())\n",
    "print(\"List :\",list)\n"
   ]
  },
  {
   "cell_type": "markdown",
   "metadata": {},
   "source": [
    "Dictionary (mutable) in python"
   ]
  },
  {
   "cell_type": "code",
   "execution_count": 31,
   "metadata": {},
   "outputs": [
    {
     "name": "stdout",
     "output_type": "stream",
     "text": [
      "Our dictionary is: {'Name': 'Abdul Rahman', 'Rollno': 39, 'Subjects': ['AI', 'Networking', 'Information Security', 'DBMS', 'Software Eingeering'], 'Semester': ('third', 'BS', 'SE', '2023 to 2027')}\n",
      "Name is: Abdul Rahman\n",
      "Our updated dictionary is : {'Name': 'Abdul Rahman', 'Rollno': 90, 'Subjects': ['AI', 'Networking', 'Information Security', 'DBMS', 'Software Eingeering'], 'Semester': ('third', 'BS', 'SE', '2023 to 2027')}\n"
     ]
    }
   ],
   "source": [
    "dict={\n",
    "    #\"keys\":\"values\",\n",
    "    \"Name\":\"Abdul Rahman\",\n",
    "    \"Rollno\":39,\n",
    "    \"Subjects\":[\"AI\",\"Networking\",\"Information Security\",\"DBMS\",\"Software Eingeering\"],\n",
    "    \"Semester\":(\"third\",\"BS\",\"SE\",\"2023 to 2027\")\n",
    "}\n",
    "\n",
    "print(\"Our dictionary is:\",dict)\n",
    "print(\"Name is:\",dict[\"Name\"])  #accessable by key\n",
    "dict[\"Rollno\"]=90               #update value\n",
    "print(\"Our updated dictionary is :\",dict)"
   ]
  },
  {
   "cell_type": "markdown",
   "metadata": {},
   "source": [
    "Nested Dictionary"
   ]
  },
  {
   "cell_type": "code",
   "execution_count": 35,
   "metadata": {},
   "outputs": [
    {
     "name": "stdout",
     "output_type": "stream",
     "text": [
      "Whole Dictionary is: {'Uni': 'Uok', 'Facility': 'Computer Science and Engineering', 'Marks': {'OOP': 120, 'DSA': 140, 'MVC': 120, 'LA': 110}, 'Department': 'SE'}\n",
      "Nested Dictionary  Marks is : {'OOP': 120, 'DSA': 140, 'MVC': 120, 'LA': 110}\n"
     ]
    }
   ],
   "source": [
    "dictionary={\n",
    "    \"Uni\":\"Uok\",\n",
    "    \"Facility\":\"Computer Science and Engineering\",\n",
    "    \"Marks\":{\n",
    "        \"OOP\":120,\n",
    "        \"DSA\":140,\n",
    "        \"MVC\":120,\n",
    "        \"LA\":110,\n",
    "    },\n",
    "    \"Department\":\"SE\",\n",
    "}\n",
    "\n",
    "print(\"Whole Dictionary is:\",dictionary)\n",
    "print(\"Nested Dictionary  Marks is :\",dictionary[\"Marks\"])"
   ]
  },
  {
   "cell_type": "markdown",
   "metadata": {},
   "source": [
    "Methods of  Dictionary"
   ]
  },
  {
   "cell_type": "markdown",
   "metadata": {},
   "source": [
    "-> Mehod:1 key (returns all the keys)"
   ]
  },
  {
   "cell_type": "markdown",
   "metadata": {},
   "source": [
    "-> Method:2 values(returns all the Values)"
   ]
  },
  {
   "cell_type": "code",
   "execution_count": 36,
   "metadata": {},
   "outputs": [
    {
     "name": "stdout",
     "output_type": "stream",
     "text": [
      "Print All the keys: dict_keys(['Name', 'Rollno', 'Subjects', 'Semester'])\n",
      "Print All the values: dict_values(['Abdul Rahman', 39, ['AI', 'Networking', 'Information Security', 'DBMS', 'Software Eingeering'], ('third', 'BS', 'SE', '2023 to 2027')])\n"
     ]
    }
   ],
   "source": [
    "dict={\n",
    "    #\"keys\":\"values\",\n",
    "    \"Name\":\"Abdul Rahman\",\n",
    "    \"Rollno\":39,\n",
    "    \"Subjects\":[\"AI\",\"Networking\",\"Information Security\",\"DBMS\",\"Software Eingeering\"],\n",
    "    \"Semester\":(\"third\",\"BS\",\"SE\",\"2023 to 2027\")\n",
    "}\n",
    "\n",
    "print(\"Print All the keys:\",dict.keys())  # key method\n",
    "print(\"Print All the values:\",dict.values()) #Value method "
   ]
  },
  {
   "cell_type": "markdown",
   "metadata": {},
   "source": [
    "-> Method:3 items(returns all the keys & Values)"
   ]
  },
  {
   "cell_type": "markdown",
   "metadata": {},
   "source": [
    "-> Method:4 get (returns all the keys & Values)"
   ]
  },
  {
   "cell_type": "code",
   "execution_count": 50,
   "metadata": {},
   "outputs": [
    {
     "name": "stdout",
     "output_type": "stream",
     "text": [
      "Print all the items : dict_items([('OOP', 120), ('DSA', 140), ('MVC', 120), ('LA', 110)])\n",
      "Print the called value : DSA : 140\n"
     ]
    }
   ],
   "source": [
    "marks={\n",
    "        \"OOP\":120,\n",
    "        \"DSA\":140,\n",
    "        \"MVC\":120,\n",
    "        \"LA\":110,\n",
    "    }\n",
    "\n",
    "print(\"Print all the items :\", marks.items()) #items method\n",
    "print(\"Print the called value :\"+  \" DSA :\" ,marks.get(\"DSA\")) #get method\n"
   ]
  },
  {
   "cell_type": "markdown",
   "metadata": {},
   "source": [
    "->Method:5 Update dictionary"
   ]
  },
  {
   "cell_type": "code",
   "execution_count": 52,
   "metadata": {},
   "outputs": [
    {
     "name": "stdout",
     "output_type": "stream",
     "text": [
      "After Updation the Dictionary : {'Name': 'Abdul Rahman', 'Rollno': 39, 'Address': 'Kotli'}\n"
     ]
    }
   ],
   "source": [
    "dictionary={\n",
    "    \"Name\":\"Abdul Rahman\",\n",
    "    \"Rollno\":39\n",
    "}\n",
    "dictionary.update({\"Address\":\"Kotli\"}) #add new items\n",
    "print(\"After Updation the Dictionary :\",dictionary)"
   ]
  },
  {
   "cell_type": "markdown",
   "metadata": {},
   "source": [
    "Sets(mutable) in python"
   ]
  },
  {
   "cell_type": "code",
   "execution_count": 1,
   "metadata": {},
   "outputs": [
    {
     "name": "stdout",
     "output_type": "stream",
     "text": [
      "Our set is : {1, 2, 3, 'Rahman', 'Abdul'}\n",
      "Length is : 5\n",
      "Type is : <class 'set'>\n"
     ]
    }
   ],
   "source": [
    "collection={ 1,2,2,3,\"Abdul\",\"Rahman\",\"Rahman\"}\n",
    "print(\"Our set is :\",collection)\n",
    "print(\"Length is :\",len(collection))\n",
    "print(\"Type is :\",type(collection))"
   ]
  },
  {
   "cell_type": "markdown",
   "metadata": {},
   "source": [
    "Empty Set"
   ]
  },
  {
   "cell_type": "code",
   "execution_count": 61,
   "metadata": {},
   "outputs": [
    {
     "name": "stdout",
     "output_type": "stream",
     "text": [
      "Type is : <class 'set'>\n"
     ]
    }
   ],
   "source": [
    "# Syntax of empty set \n",
    "collect = set()\n",
    "print(\"Type is :\", type(collect))\n"
   ]
  },
  {
   "cell_type": "markdown",
   "metadata": {},
   "source": [
    "Methods of sets"
   ]
  },
  {
   "cell_type": "code",
   "execution_count": 69,
   "metadata": {},
   "outputs": [
    {
     "name": "stdout",
     "output_type": "stream",
     "text": [
      "Add method : {1, 2, 3, 'Abdul', 'Okay', 'Rahman'}\n",
      "Remove method : {1, 3, 'Abdul', 'Okay', 'Rahman'}\n",
      "Pop method : {3, 'Abdul', 'Okay', 'Rahman'}\n",
      "Clear method : set()\n"
     ]
    }
   ],
   "source": [
    "collection={ 1,2,2,3,\"Abdul\",\"Rahman\",\"Rahman\"}\n",
    "collection.add(\"Okay\")\n",
    "print(\"Add method :\",collection)     #add method\n",
    "collection.remove(2)\n",
    "print(\"Remove method :\",collection)  #remove method\n",
    "collection.pop()\n",
    "print(\"Pop method :\",collection)     #pop method\n",
    "collection.clear()\n",
    "print(\"Clear method :\",collection)   #clear method"
   ]
  },
  {
   "cell_type": "markdown",
   "metadata": {},
   "source": [
    "Union & Intersection"
   ]
  },
  {
   "cell_type": "code",
   "execution_count": 10,
   "metadata": {},
   "outputs": [
    {
     "name": "stdout",
     "output_type": "stream",
     "text": [
      "Union is : {1, 2, 3, 4, 5, 6, 7, 8}\n",
      "Intersection is: {4, 5}\n"
     ]
    }
   ],
   "source": [
    "set_1={1,2,3,4,5}\n",
    "set_2={4,5,6,7,8}\n",
    "print(\"Union is :\",set_1.union(set_2))               #union method \n",
    "print(\"Intersection is:\",set_1.intersection(set_2))  #intersection method "
   ]
  },
  {
   "cell_type": "markdown",
   "metadata": {},
   "source": [
    "Lambda function"
   ]
  },
  {
   "cell_type": "code",
   "execution_count": 20,
   "metadata": {},
   "outputs": [],
   "source": [
    "result=lambda num:num**2\n",
    "print(\"Square of 4 is\",result(4))"
   ]
  },
  {
   "cell_type": "code",
   "execution_count": 9,
   "metadata": {},
   "outputs": [
    {
     "data": {
      "text/plain": [
       "'Even'"
      ]
     },
     "execution_count": 9,
     "metadata": {},
     "output_type": "execute_result"
    }
   ],
   "source": [
    "num = lambda x: \"Even\" if x % 2 == 0 else \"Odd\"\n",
    "num(4)"
   ]
  },
  {
   "cell_type": "markdown",
   "metadata": {},
   "source": [
    "Higher Order Function"
   ]
  },
  {
   "cell_type": "code",
   "execution_count": 27,
   "metadata": {},
   "outputs": [
    {
     "name": "stdout",
     "output_type": "stream",
     "text": [
      "Indexes :\n",
      "12\n",
      "14\n",
      "16\n",
      "18\n",
      "20\n",
      "Sum of even number in list: 80\n",
      "Indexes :\n",
      "11\n",
      "13\n",
      "15\n",
      "17\n",
      "19\n",
      "Sum of Odd number in list: 75\n",
      "Indexes :\n",
      "12\n",
      "15\n",
      "18\n",
      "Sum of number divide by 3 in list: 45\n"
     ]
    }
   ],
   "source": [
    "def return_sum(fun, list):\n",
    "    result = 0\n",
    "    print(\"Indexes :\")\n",
    "    for i in list:\n",
    "        if fun(i):\n",
    "            print(i)\n",
    "            result = result + i\n",
    "    return result\n",
    "    \n",
    "\n",
    "list = [11, 12, 13, 14, 15, 16, 17, 18, 19, 20]\n",
    "\n",
    "x = lambda x: x % 2 == 0\n",
    "y = lambda x: x % 2 != 0\n",
    "z = lambda x: x % 3 == 0\n",
    "\n",
    "print(\"Sum of even number in list:\", return_sum(x, list))\n",
    "print(\"Sum of Odd number in list:\", return_sum(y, list))\n",
    "print(\"Sum of number divide by 3 in list:\", return_sum(z, list))\n",
    "\n",
    "\n",
    "\n"
   ]
  },
  {
   "cell_type": "markdown",
   "metadata": {},
   "source": [
    "loops in python"
   ]
  },
  {
   "cell_type": "markdown",
   "metadata": {},
   "source": [
    "While loop"
   ]
  },
  {
   "cell_type": "code",
   "execution_count": 17,
   "metadata": {},
   "outputs": [
    {
     "name": "stdout",
     "output_type": "stream",
     "text": [
      "4 X 1 = 4\n",
      "4 X 2 = 8\n",
      "4 X 3 = 12\n",
      "4 X 4 = 16\n",
      "4 X 5 = 20\n",
      "4 X 6 = 24\n",
      "4 X 7 = 28\n",
      "4 X 8 = 32\n",
      "4 X 9 = 36\n",
      "4 X 10 = 40\n"
     ]
    }
   ],
   "source": [
    "#print the table\n",
    "count=1\n",
    "num=int(input(\"Enter the number:\"))\n",
    "while count<=10 :\n",
    "    print (num,\"X\",count,\"=\",num*count)\n",
    "    count+=1\n"
   ]
  },
  {
   "cell_type": "markdown",
   "metadata": {},
   "source": [
    "print list [1,4,9,16,25,36,49,64,81,100] using loop"
   ]
  },
  {
   "cell_type": "code",
   "execution_count": 26,
   "metadata": {},
   "outputs": [
    {
     "name": "stdout",
     "output_type": "stream",
     "text": [
      "List is : 1\n",
      "List is : 4\n",
      "List is : 9\n",
      "List is : 16\n",
      "List is : 25\n",
      "List is : 36\n",
      "List is : 49\n",
      "List is : 64\n",
      "List is : 81\n",
      "List is : 100\n"
     ]
    }
   ],
   "source": [
    "num=[1,4,9,16,25,36,49,64,81,100]\n",
    "indx=0\n",
    "while (indx<len(num)) :\n",
    "    print(\"List is :\",num[indx])\n",
    "    indx += 1 \n"
   ]
  },
  {
   "cell_type": "markdown",
   "metadata": {},
   "source": [
    "Find specific number in a list"
   ]
  },
  {
   "cell_type": "code",
   "execution_count": 2,
   "metadata": {},
   "outputs": [
    {
     "name": "stdout",
     "output_type": "stream",
     "text": [
      "Still searching \n",
      "Finding at index : 1\n",
      "Still searching \n",
      "Still searching \n",
      "Still searching \n",
      "Still searching \n",
      "Still searching \n",
      "Still searching \n",
      "Finding at index : 8\n",
      "Still searching \n",
      "Still searching \n",
      "Not finding :\n"
     ]
    }
   ],
   "source": [
    "num=[1,4,9,16,25,36,49,64,4,81,100]\n",
    "indx=0\n",
    "find=4\n",
    "while (indx<len(num)) :\n",
    "    if find==num[indx] :\n",
    "        print(\"Finding at index :\",indx)\n",
    "    else:\n",
    "         print(\"Still searching \")   \n",
    "    indx += 1 \n",
    "print(\"Not finding :\")"
   ]
  },
  {
   "cell_type": "markdown",
   "metadata": {},
   "source": [
    "For Loop in Python"
   ]
  },
  {
   "cell_type": "code",
   "execution_count": 34,
   "metadata": {},
   "outputs": [
    {
     "name": "stdout",
     "output_type": "stream",
     "text": [
      "Found : a\n",
      "Found : a\n",
      "Found : a\n",
      "Not Found\n"
     ]
    }
   ],
   "source": [
    "name=\"Abdul Rahman Awan\"\n",
    "\n",
    "for char in name :\n",
    "    if char =='a':\n",
    "        print(\"Found :\", char)\n",
    "else:\n",
    "    print(\"Not Found\")        "
   ]
  },
  {
   "cell_type": "markdown",
   "metadata": {},
   "source": [
    "Continue"
   ]
  },
  {
   "cell_type": "code",
   "execution_count": 5,
   "metadata": {},
   "outputs": [
    {
     "name": "stdout",
     "output_type": "stream",
     "text": [
      "apple\n",
      "cherry\n"
     ]
    }
   ],
   "source": [
    "fruits = [ \"banana\",\"apple\", \"cherry\"]\n",
    "for indx in fruits:\n",
    "  if indx == \"banana\":\n",
    "    continue\n",
    "  print(indx)"
   ]
  },
  {
   "cell_type": "markdown",
   "metadata": {},
   "source": [
    "Break"
   ]
  },
  {
   "cell_type": "code",
   "execution_count": 7,
   "metadata": {},
   "outputs": [
    {
     "name": "stdout",
     "output_type": "stream",
     "text": [
      "Monday\n",
      "Tuesday\n"
     ]
    }
   ],
   "source": [
    "days = [ \"Monday\",\"Tuesday\",\"Wednesday\",\"Thursday\"]\n",
    "for indx in days:\n",
    "  if indx == \"Wednesday\":\n",
    "   break\n",
    "  print(indx)"
   ]
  },
  {
   "cell_type": "markdown",
   "metadata": {},
   "source": [
    "Rnage"
   ]
  },
  {
   "cell_type": "code",
   "execution_count": 8,
   "metadata": {},
   "outputs": [
    {
     "name": "stdout",
     "output_type": "stream",
     "text": [
      "Numbers is :\n",
      "0\n",
      "1\n",
      "2\n",
      "3\n",
      "4\n"
     ]
    }
   ],
   "source": [
    "#Range \n",
    "print(\"Numbers is :\")\n",
    "for i in range(5) :\n",
    "    print(i)"
   ]
  },
  {
   "cell_type": "markdown",
   "metadata": {},
   "source": [
    "for in list "
   ]
  },
  {
   "cell_type": "code",
   "execution_count": 6,
   "metadata": {},
   "outputs": [
    {
     "name": "stdout",
     "output_type": "stream",
     "text": [
      "List is :\n",
      "1\n",
      "2\n",
      "3\n",
      "4\n",
      "5\n",
      "6\n"
     ]
    }
   ],
   "source": [
    "list=[1,2,3,4,5,6]\n",
    "print(\"List is :\")\n",
    "for i in list :\n",
    "  print(i)\n",
    "  "
   ]
  },
  {
   "cell_type": "markdown",
   "metadata": {},
   "source": [
    "For in strintg"
   ]
  },
  {
   "cell_type": "code",
   "execution_count": 7,
   "metadata": {},
   "outputs": [
    {
     "name": "stdout",
     "output_type": "stream",
     "text": [
      "Name:\n",
      "A\n",
      "b\n",
      "d\n",
      "u\n",
      "l\n",
      " \n",
      "R\n",
      "a\n",
      "h\n",
      "m\n",
      "a\n",
      "n\n",
      " \n",
      "A\n",
      "w\n",
      "a\n",
      "n\n"
     ]
    }
   ],
   "source": [
    "Name=\"Abdul Rahman Awan\"\n",
    "print(\"Name:\")\n",
    "for i in Name:\n",
    "    print(i)"
   ]
  },
  {
   "cell_type": "markdown",
   "metadata": {},
   "source": [
    "Parameterized Range"
   ]
  },
  {
   "cell_type": "code",
   "execution_count": 25,
   "metadata": {},
   "outputs": [
    {
     "name": "stdout",
     "output_type": "stream",
     "text": [
      "Searching : 2\n",
      "2\n",
      "Searching : 5\n",
      "5\n",
      "Searching : 8\n",
      "8\n",
      "Searching : 11\n",
      "11\n",
      "Reached desired point: 14\n",
      "14\n",
      "Searching : 17\n",
      "17\n",
      "Searching : 20\n",
      "20\n",
      "Searching : 23\n",
      "23\n",
      "Searching : 26\n",
      "26\n",
      "Searching : 29\n",
      "29\n"
     ]
    }
   ],
   "source": [
    "for x in range(2, 30, 3): # syntax : start ,ends ,increment\n",
    "    n=14\n",
    "    if x==n:\n",
    "        print(\"Reached desired point:\",x)\n",
    "    else :\n",
    "        print(\"Searching :\",x)    \n",
    "    print(x) \n"
   ]
  },
  {
   "cell_type": "markdown",
   "metadata": {},
   "source": [
    "Functions in Python"
   ]
  },
  {
   "cell_type": "markdown",
   "metadata": {},
   "source": [
    "1.Modules (collection  of compined biult in function )"
   ]
  },
  {
   "cell_type": "code",
   "execution_count": 3,
   "metadata": {},
   "outputs": [
    {
     "name": "stdout",
     "output_type": "stream",
     "text": [
      "Square is: 7.0\n"
     ]
    }
   ],
   "source": [
    "from math import sqrt\n",
    "\n",
    "print(\"Square is:\", sqrt(49))\n"
   ]
  },
  {
   "cell_type": "markdown",
   "metadata": {},
   "source": [
    "User define function"
   ]
  },
  {
   "cell_type": "code",
   "execution_count": 22,
   "metadata": {},
   "outputs": [
    {
     "name": "stdout",
     "output_type": "stream",
     "text": [
      "User name : Abdul rahman \n",
      " Address : Kotli\n"
     ]
    }
   ],
   "source": [
    "def user_function(name,address): #syntax def ,fun_name(parameters) \n",
    "  print(\"User name :\",name,\"\\n\",\"Address :\",address)\n",
    "user_function(\"Abdul rahman\",\"Kotli\")"
   ]
  }
 ],
 "metadata": {
  "kernelspec": {
   "display_name": "Python 3",
   "language": "python",
   "name": "python3"
  },
  "language_info": {
   "codemirror_mode": {
    "name": "ipython",
    "version": 3
   },
   "file_extension": ".py",
   "mimetype": "text/x-python",
   "name": "python",
   "nbconvert_exporter": "python",
   "pygments_lexer": "ipython3",
   "version": "3.13.1"
  }
 },
 "nbformat": 4,
 "nbformat_minor": 2
}
